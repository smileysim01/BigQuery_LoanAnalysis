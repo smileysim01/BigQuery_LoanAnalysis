{
 "cells": [
  {
   "cell_type": "markdown",
   "id": "09a47213-24ca-449e-a20c-125749ac9482",
   "metadata": {},
   "source": [
    "# simran4@wisc.edu, rgundavarapu@wisc.edu"
   ]
  },
  {
   "cell_type": "markdown",
   "id": "7e04676f-9236-4d98-9079-491cb332ccf8",
   "metadata": {},
   "source": [
    "## PART 1"
   ]
  },
  {
   "cell_type": "code",
   "execution_count": 1,
   "id": "cc359fcb-aefa-416d-989e-b408d880e065",
   "metadata": {},
   "outputs": [
    {
     "data": {
      "text/plain": [
       "'55025'"
      ]
     },
     "execution_count": 1,
     "metadata": {},
     "output_type": "execute_result"
    }
   ],
   "source": [
    "#q1\n",
    "from google.cloud import bigquery\n",
    "bq = bigquery.Client(project=\"cs544-sp23-376003\")\n",
    "q1 = bq.query(\"\"\"\n",
    "SELECT geo_id\n",
    "FROM bigquery-public-data.geo_us_boundaries.counties\n",
    "WHERE county_name = 'Dane'\n",
    "LIMIT 5\n",
    "\"\"\")\n",
    "df = q1.to_dataframe()\n",
    "(df['geo_id'][0])"
   ]
  },
  {
   "cell_type": "code",
   "execution_count": 2,
   "id": "12a4bb34-627e-40f7-bf32-267346ae8c59",
   "metadata": {},
   "outputs": [
    {
     "data": {
      "text/plain": [
       "{'48': 254, '13': 159, '51': 129, '21': 120, '29': 114}"
      ]
     },
     "execution_count": 2,
     "metadata": {},
     "output_type": "execute_result"
    }
   ],
   "source": [
    "#q2\n",
    "q2 = bq.query(\"\"\"\n",
    "SELECT COUNT(DISTINCT(county_name)) AS MEOW,state_fips_code\n",
    "FROM bigquery-public-data.geo_us_boundaries.counties\n",
    "GROUP BY state_fips_code\n",
    "ORDER BY MEOW DESC\n",
    "LIMIT 5\n",
    "\"\"\")\n",
    "df = q2.to_dataframe()\n",
    "q2_dict={}\n",
    "for i in df.iterrows():\n",
    "    q2_dict[i[1].state_fips_code]=i[1].MEOW\n",
    "q2_dict"
   ]
  },
  {
   "cell_type": "code",
   "execution_count": 3,
   "id": "c39780bd-6c86-4fb4-9e8d-d2a75c562e83",
   "metadata": {},
   "outputs": [
    {
     "data": {
      "text/plain": [
       "{'q1': 4.76837158203125e-05, 'q2': 4.76837158203125e-05}"
      ]
     },
     "execution_count": 3,
     "metadata": {},
     "output_type": "execute_result"
    }
   ],
   "source": [
    "#q3\n",
    "no_cache = bigquery.QueryJobConfig(use_query_cache=False)\n",
    "q1 = bq.query(\"\"\"\n",
    "SELECT geo_id\n",
    "FROM bigquery-public-data.geo_us_boundaries.counties\n",
    "WHERE county_name = 'Dane'\n",
    "LIMIT 5\n",
    "\"\"\",job_config=no_cache)\n",
    "q2 = bq.query(\"\"\"\n",
    "SELECT COUNT(DISTINCT(county_name)) AS MEOW,state_fips_code\n",
    "FROM bigquery-public-data.geo_us_boundaries.counties\n",
    "GROUP BY state_fips_code\n",
    "ORDER BY MEOW DESC\n",
    "LIMIT 5\n",
    "\"\"\",job_config=no_cache)\n",
    "q1cost=5 * (q1.total_bytes_billed / 1024**4)\n",
    "q2cost=5 * (q2.total_bytes_billed / 1024**4)\n",
    "q3_dict={}\n",
    "q3_dict['q1']=q1cost\n",
    "q3_dict['q2']=q2cost\n",
    "q3_dict"
   ]
  },
  {
   "cell_type": "markdown",
   "id": "471326b4-00bb-4dc5-a621-8eab3c4c58e1",
   "metadata": {},
   "source": [
    "## PART 2"
   ]
  },
  {
   "cell_type": "code",
   "execution_count": 4,
   "id": "5321e54b-f720-4bd9-a37e-ae319fff775d",
   "metadata": {},
   "outputs": [
    {
     "data": {
      "text/plain": [
       "['p7']"
      ]
     },
     "execution_count": 4,
     "metadata": {},
     "output_type": "execute_result"
    }
   ],
   "source": [
    "#q4\n",
    "dataset = bigquery.Dataset(\"cs544-sp23-376003.p7\")\n",
    "bq.create_dataset(dataset, exists_ok=True)\n",
    "[ds.dataset_id for ds in bq.list_datasets(\"cs544-sp23-376003\")] # PASTE project name"
   ]
  },
  {
   "cell_type": "code",
   "execution_count": 5,
   "id": "a0a4c22f-90e4-4ee7-9af9-401285481c89",
   "metadata": {},
   "outputs": [
    {
     "data": {
      "text/plain": [
       "{'Milwaukee': 46570,\n",
       " 'Dane': 38557,\n",
       " 'Waukesha': 34159,\n",
       " 'Brown': 15615,\n",
       " 'Racine': 13007,\n",
       " 'Outagamie': 11523,\n",
       " 'Kenosha': 10744,\n",
       " 'Washington': 10726,\n",
       " 'Rock': 9834,\n",
       " 'Winnebago': 9310}"
      ]
     },
     "execution_count": 5,
     "metadata": {},
     "output_type": "execute_result"
    }
   ],
   "source": [
    "#q5\n",
    "config = bigquery.LoadJobConfig(source_format=\"PARQUET\", write_disposition=\"WRITE_TRUNCATE\")\n",
    "job = bq.load_table_from_uri([\"gs://p7bucket/hdma-wi-2021.parquet\"],\n",
    "                             \"cs544-sp23-376003.p7.loans\", job_config=config)\n",
    "q5 = bq.query(\"\"\"\n",
    "SELECT count(county_name) as county_count,county_name\n",
    "FROM cs544-sp23-376003.p7.loans\n",
    "INNER JOIN bigquery-public-data.geo_us_boundaries.counties \n",
    "ON counties.county_fips_code = loans.county_code\n",
    "GROUP BY county_name\n",
    "ORDER BY county_count DESC\n",
    "LIMIT 10\n",
    "\"\"\")\n",
    "df = q5.to_dataframe()\n",
    "q5_dict={}\n",
    "for i in df.iterrows():\n",
    "    q5_dict[i[1].county_name]=i[1].county_count\n",
    "q5_dict"
   ]
  },
  {
   "cell_type": "markdown",
   "id": "3c4326fb-55f9-4b1c-82b2-90a7ae145c27",
   "metadata": {},
   "source": [
    "## PART 3"
   ]
  },
  {
   "cell_type": "code",
   "execution_count": 6,
   "id": "51732d6f-316c-408d-9a57-2f0f2a05f028",
   "metadata": {},
   "outputs": [
    {
     "data": {
      "text/plain": [
       "8"
      ]
     },
     "execution_count": 6,
     "metadata": {},
     "output_type": "execute_result"
    }
   ],
   "source": [
    "#q6\n",
    "url = \"https://drive.google.com/open?id=1e2qLPyxZ7s5ibMyEg7bxX2wWYAQD2ROAUcZuv8fqhnA\"\n",
    "\n",
    "external_config = bigquery.ExternalConfig(\"GOOGLE_SHEETS\")\n",
    "external_config.source_uris = [url]\n",
    "external_config.options.skip_leading_rows = 1\n",
    "external_config.autodetect = True\n",
    "\n",
    "table = bigquery.Table(dataset.table('apps'))\n",
    "table.external_data_configuration = external_config\n",
    "\n",
    "table = bq.create_table(table, exists_ok=True)\n",
    "q6 = bq.query(\"\"\"\n",
    "SELECT COUNT(income) as count\n",
    "FROM p7.apps\n",
    "WHERE INCOME = 150000\n",
    "LIMIT 10\n",
    "\"\"\")\n",
    "df = q6.to_dataframe()\n",
    "## MY CHOSEN INCOME WAS 150K\n",
    "df['count'][0]"
   ]
  },
  {
   "cell_type": "code",
   "execution_count": 7,
   "id": "da970927-00d2-44dc-8ead-1a24810ac2cd",
   "metadata": {},
   "outputs": [
    {
     "data": {
      "text/plain": [
       "{'Door': 5,\n",
       " 'Brown': 3,\n",
       " 'Dane': 31,\n",
       " 'Kewaunee': 1,\n",
       " 'La Crosse': 1,\n",
       " 'Dodge': 1,\n",
       " 'Jefferson': 4,\n",
       " 'Bayfield': 3,\n",
       " 'Walworth': 2,\n",
       " 'Ashland': 1,\n",
       " 'Milwaukee': 2,\n",
       " 'Barron': 1,\n",
       " 'Oneida': 1,\n",
       " 'Waukesha': 1,\n",
       " 'Iron': 1,\n",
       " 'Sauk': 1,\n",
       " 'Monroe': 1,\n",
       " 'Adams': 1,\n",
       " 'Columbia': 2,\n",
       " 'Sheboygan': 1,\n",
       " 'Green Lake': 1,\n",
       " 'Iowa': 1}"
      ]
     },
     "execution_count": 7,
     "metadata": {},
     "output_type": "execute_result"
    }
   ],
   "source": [
    "#q7\n",
    "from geopandas import GeoDataFrame\n",
    "q71 = bq.query(\"\"\"\n",
    "CREATE OR REPLACE TABLE cs544-sp23-376003.p7.houses\n",
    "AS\n",
    "SELECT *, ST_GEOGPOINT(longitude, latitude) AS loc\n",
    "FROM p7.apps\n",
    "\"\"\")\n",
    "q = bq.query(\"\"\"\n",
    "CREATE OR REPLACE TABLE cs544-sp23-376003.p7.wi\n",
    "AS\n",
    "\n",
    "SELECT county_name, county_geom\n",
    "FROM bigquery-public-data.geo_us_boundaries.counties\n",
    "WHERE state_fips_code = '55' \n",
    "\"\"\")\n",
    "q72=bq.query(\"\"\"\n",
    "SELECT  county_name , COUNT(county_name)\n",
    "FROM p7.houses, cs544-sp23-376003.p7.wi\n",
    "WHERE ST_WITHIN(houses.loc, wi.county_geom) \n",
    "GROUP BY county_name\n",
    "\"\"\")\n",
    "houses_df = q72.to_dataframe()\n",
    "q7_dict={}\n",
    "for i in houses_df.iterrows():\n",
    "    q7_dict[i[1].county_name]=i[1].f0_\n",
    "q7_dict"
   ]
  },
  {
   "cell_type": "markdown",
   "id": "de33abec-97c9-42c9-922c-ee6d63f71ca4",
   "metadata": {},
   "source": [
    "## PART 4"
   ]
  },
  {
   "cell_type": "code",
   "execution_count": 8,
   "id": "2b2a3da4-ba8b-4b0b-9add-4ad8742a206d",
   "metadata": {},
   "outputs": [
    {
     "data": {
      "text/plain": [
       "0.29165412288020354"
      ]
     },
     "execution_count": 8,
     "metadata": {},
     "output_type": "execute_result"
    }
   ],
   "source": [
    "#q8\n",
    "q8 = bq.query(\"\"\"\n",
    "CREATE OR REPLACE MODEL `cs544-sp23-376003.p7.mymodel`\n",
    "OPTIONS(model_type='LINEAR_REG', INPUT_LABEL_COLS=['loan_amount'])\n",
    "AS\n",
    "SELECT income, loan_term, loan_amount\n",
    "FROM `cs544-sp23-376003.p7.loans`\n",
    "\"\"\")\n",
    "q82=bq.query(\"\"\"\n",
    "SELECT *\n",
    "FROM\n",
    "ML.EVALUATE(\n",
    "    MODEL `cs544-sp23-376003.p7.mymodel`,\n",
    "    (\n",
    "        SELECT income, loan_term, loan_amount\n",
    "        FROM `cs544-sp23-376003.p7.loans`\n",
    "    )\n",
    ")\n",
    "\n",
    "\"\"\")\n",
    "df=q82.to_dataframe()\n",
    "df['r2_score'][0]"
   ]
  },
  {
   "cell_type": "code",
   "execution_count": 9,
   "id": "cd21c737-2b7c-4106-a6c0-830811820092",
   "metadata": {},
   "outputs": [
    {
     "data": {
      "text/plain": [
       "0.8057773037176653"
      ]
     },
     "execution_count": 9,
     "metadata": {},
     "output_type": "execute_result"
    }
   ],
   "source": [
    "#q9\n",
    "q9=bq.query(\"\"\"\n",
    "SELECT * FROM\n",
    "ML.WEIGHTS(MODEL `cs544-sp23-376003.p7.mymodel`)\n",
    "\"\"\")\n",
    "df=q9.to_dataframe()\n",
    "df['weight'][0]"
   ]
  },
  {
   "cell_type": "code",
   "execution_count": 10,
   "id": "71a78231-981d-4c5e-86bc-9aa7effbad6e",
   "metadata": {},
   "outputs": [
    {
     "data": {
      "text/plain": [
       "0.6016949152542372"
      ]
     },
     "execution_count": 10,
     "metadata": {},
     "output_type": "execute_result"
    }
   ],
   "source": [
    "#q10\n",
    "q10=bq.query(\"\"\"\n",
    "SELECT *\n",
    "FROM\n",
    "ML.PREDICT(\n",
    "    MODEL `cs544-sp23-376003.p7.mymodel`,\n",
    "    (\n",
    "        SELECT income, 360 AS loan_term, loan_amount\n",
    "        FROM `p7.apps`\n",
    "    )\n",
    ")\n",
    "\"\"\")\n",
    "df=q10.to_dataframe()\n",
    "counter=0\n",
    "for i in df.iterrows():\n",
    "    if i[1].predicted_loan_amount < i[1].loan_amount:\n",
    "        counter+=1\n",
    "counter/len(df)"
   ]
  }
 ],
 "metadata": {
  "kernelspec": {
   "display_name": "Python 3 (ipykernel)",
   "language": "python",
   "name": "python3"
  },
  "language_info": {
   "codemirror_mode": {
    "name": "ipython",
    "version": 3
   },
   "file_extension": ".py",
   "mimetype": "text/x-python",
   "name": "python",
   "nbconvert_exporter": "python",
   "pygments_lexer": "ipython3",
   "version": "3.8.10"
  }
 },
 "nbformat": 4,
 "nbformat_minor": 5
}
