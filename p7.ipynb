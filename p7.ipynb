{
 "cells": [
  {
   "cell_type": "markdown",
   "id": "772c96c9-e950-4363-b437-557f2ba281d0",
   "metadata": {},
   "source": [
    "# simran4@wisc.edu, rgundavarapu@wisc.edu"
   ]
  },
  {
   "cell_type": "code",
   "execution_count": 1,
   "id": "9493aaa4-4507-47c1-9c7c-59e1d25669d0",
   "metadata": {},
   "outputs": [],
   "source": [
    "from google.cloud import bigquery\n",
    "bq = bigquery.Client(project=\"CS544\")"
   ]
  },
  {
   "cell_type": "code",
   "execution_count": null,
   "id": "8cb69071-3163-47cd-98f5-1270e2470020",
   "metadata": {},
   "outputs": [],
   "source": [
    "# q = bq.query(\"\"\"\n",
    "# ????\n",
    "# \"\"\")\n",
    "# q.to_dataframe()"
   ]
  },
  {
   "cell_type": "markdown",
   "id": "38179f17-abe3-4f37-8d6e-2354593f9514",
   "metadata": {},
   "source": [
    "# Part 1"
   ]
  },
  {
   "cell_type": "code",
   "execution_count": 10,
   "id": "0ce548dc-c32e-4d67-9c40-005b406b744b",
   "metadata": {},
   "outputs": [],
   "source": [
    "for ds in bq.list_datasets(\"bigquery-public-data.geo_us_boundaries.counties\"):\n",
    "    print(ds.dataset_id)"
   ]
  },
  {
   "cell_type": "markdown",
   "id": "0ef4f7c1-d005-4bf9-b38a-8769b462ad46",
   "metadata": {},
   "source": [
    "#q1"
   ]
  },
  {
   "cell_type": "code",
   "execution_count": null,
   "id": "4b9ad451-2c20-40e6-8606-576c37adef81",
   "metadata": {},
   "outputs": [],
   "source": []
  },
  {
   "cell_type": "code",
   "execution_count": null,
   "id": "c60c1ced-c54a-4e4f-947d-c64ceeaf1f82",
   "metadata": {},
   "outputs": [],
   "source": []
  }
 ],
 "metadata": {
  "kernelspec": {
   "display_name": "Python 3 (ipykernel)",
   "language": "python",
   "name": "python3"
  },
  "language_info": {
   "codemirror_mode": {
    "name": "ipython",
    "version": 3
   },
   "file_extension": ".py",
   "mimetype": "text/x-python",
   "name": "python",
   "nbconvert_exporter": "python",
   "pygments_lexer": "ipython3",
   "version": "3.10.6"
  }
 },
 "nbformat": 4,
 "nbformat_minor": 5
}
