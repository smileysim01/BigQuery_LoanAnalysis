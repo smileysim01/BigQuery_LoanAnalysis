{
 "cells": [
  {
   "cell_type": "markdown",
   "id": "772c96c9-e950-4363-b437-557f2ba281d0",
   "metadata": {},
   "source": [
    "# simran4@wisc.edu, rgundavarapu@wisc.edu"
   ]
  },
  {
   "cell_type": "code",
   "execution_count": 1,
   "id": "9493aaa4-4507-47c1-9c7c-59e1d25669d0",
   "metadata": {},
   "outputs": [],
   "source": [
    "from google.cloud import bigquery\n",
    "bq = bigquery.Client(project=\"cs544-377117\")\n",
    "%load_ext google.cloud.bigquery"
   ]
  },
  {
   "cell_type": "markdown",
   "id": "38179f17-abe3-4f37-8d6e-2354593f9514",
   "metadata": {},
   "source": [
    "# Part 1"
   ]
  },
  {
   "cell_type": "code",
   "execution_count": 2,
   "id": "06e2d924-2a75-4c92-886c-98976ceb7b76",
   "metadata": {},
   "outputs": [
    {
     "data": {
      "text/plain": [
       "'55025'"
      ]
     },
     "execution_count": 2,
     "metadata": {},
     "output_type": "execute_result"
    }
   ],
   "source": [
    "#q1\n",
    "q1 = bq.query(\"\"\"\n",
    "SELECT geo_id\n",
    "FROM bigquery-public-data.geo_us_boundaries.counties\n",
    "WHERE county_name = 'Dane'\n",
    "LIMIT 5\n",
    "\"\"\")\n",
    "df = q1.to_dataframe()\n",
    "(df['geo_id'][0])"
   ]
  },
  {
   "cell_type": "code",
   "execution_count": 3,
   "id": "12f42d32-438d-43f2-a7ea-3499d9bd9452",
   "metadata": {},
   "outputs": [
    {
     "data": {
      "text/plain": [
       "{'48': 254, '13': 159, '51': 129, '21': 120, '29': 114}"
      ]
     },
     "execution_count": 3,
     "metadata": {},
     "output_type": "execute_result"
    }
   ],
   "source": [
    "#q2\n",
    "q2 = bq.query(\"\"\"\n",
    "SELECT COUNT(DISTINCT(county_name)) AS MEOW,state_fips_code\n",
    "FROM bigquery-public-data.geo_us_boundaries.counties\n",
    "GROUP BY state_fips_code\n",
    "ORDER BY MEOW DESC\n",
    "LIMIT 5\n",
    "\"\"\")\n",
    "df = q2.to_dataframe()\n",
    "q2_dict={}\n",
    "for i in df.iterrows():\n",
    "    q2_dict[i[1].state_fips_code]=i[1].MEOW\n",
    "q2_dict"
   ]
  },
  {
   "cell_type": "code",
   "execution_count": 4,
   "id": "1cb394a5-ec63-48ff-bf46-81ddd55f866d",
   "metadata": {},
   "outputs": [
    {
     "data": {
      "text/plain": [
       "{'q1': 4.76837158203125e-05, 'q2': 4.76837158203125e-05}"
      ]
     },
     "execution_count": 4,
     "metadata": {},
     "output_type": "execute_result"
    }
   ],
   "source": [
    "#q3\n",
    "no_cache = bigquery.QueryJobConfig(use_query_cache=False)\n",
    "q1 = bq.query(\"\"\"\n",
    "SELECT geo_id\n",
    "FROM bigquery-public-data.geo_us_boundaries.counties\n",
    "WHERE county_name = 'Dane'\n",
    "LIMIT 5\n",
    "\"\"\",job_config=no_cache)\n",
    "q2 = bq.query(\"\"\"\n",
    "SELECT COUNT(DISTINCT(county_name)) AS MEOW,state_fips_code\n",
    "FROM bigquery-public-data.geo_us_boundaries.counties\n",
    "GROUP BY state_fips_code\n",
    "ORDER BY MEOW DESC\n",
    "LIMIT 5\n",
    "\"\"\",job_config=no_cache)\n",
    "q1cost=5 * (q1.total_bytes_billed / 1024**4)\n",
    "q2cost=5 * (q2.total_bytes_billed / 1024**4)\n",
    "q3_dict={}\n",
    "q3_dict['q1']=q1cost\n",
    "q3_dict['q2']=q2cost\n",
    "q3_dict"
   ]
  },
  {
   "cell_type": "code",
   "execution_count": 5,
   "id": "7daf2fca-3687-4452-9a34-7b6f231b364b",
   "metadata": {},
   "outputs": [
    {
     "name": "stdout",
     "output_type": "stream",
     "text": [
      "Traceback (most recent call last):\n",
      "  File \"/home/smileysim01/project-7-gobadgers/autograder.py\", line 312, in <module>\n",
      "    main()\n",
      "  File \"/home/smileysim01/project-7-gobadgers/autograder.py\", line 290, in main\n",
      "    dump_results(ipynb, actual_path)\n",
      "  File \"/home/smileysim01/project-7-gobadgers/autograder.py\", line 68, in dump_results\n",
      "    for answer in read_code_cells(ipynb, default_notes):\n",
      "  File \"/home/smileysim01/project-7-gobadgers/autograder.py\", line 17, in read_code_cells\n",
      "    raise Exception(f\"Expected execution count {expected_exec_count} but found {exec_count}. Please do Restart & Run all then save before running the tester.\")\n",
      "Exception: Expected execution count 1 but found 10. Please do Restart & Run all then save before running the tester.\n"
     ]
    }
   ],
   "source": [
    "!python3 autograder.py p7.ipynb"
   ]
  },
  {
   "cell_type": "code",
   "execution_count": 6,
   "id": "8811e113-f362-4a4c-934e-c6385da91597",
   "metadata": {},
   "outputs": [
    {
     "name": "stdout",
     "output_type": "stream",
     "text": [
      "  % Total    % Received % Xferd  Average Speed   Time    Time     Time  Current\n",
      "                                 Dload  Upload   Total   Spent    Left  Speed\n",
      "100 6483k  100 6483k    0     0  15.1M      0 --:--:-- --:--:-- --:--:-- 15.1M\n"
     ]
    }
   ],
   "source": [
    "!curl https://pages.cs.wisc.edu/~harter/cs639/data/hdma-wi-2021.parquet > hdma-wi-2021.parquet"
   ]
  }
 ],
 "metadata": {
  "kernelspec": {
   "display_name": "Python 3 (ipykernel)",
   "language": "python",
   "name": "python3"
  },
  "language_info": {
   "codemirror_mode": {
    "name": "ipython",
    "version": 3
   },
   "file_extension": ".py",
   "mimetype": "text/x-python",
   "name": "python",
   "nbconvert_exporter": "python",
   "pygments_lexer": "ipython3",
   "version": "3.10.6"
  }
 },
 "nbformat": 4,
 "nbformat_minor": 5
}
